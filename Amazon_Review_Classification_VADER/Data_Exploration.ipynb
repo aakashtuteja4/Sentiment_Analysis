{
 "cells": [
  {
   "cell_type": "code",
   "execution_count": 44,
   "metadata": {},
   "outputs": [],
   "source": [
    "import pandas as pd\n",
    "import numpy as np\n",
    "import matplotlib.pyplot as plt\n",
    "import seaborn as sns\n",
    "\n",
    "\n",
    "import nltk"
   ]
  },
  {
   "cell_type": "code",
   "execution_count": 22,
   "metadata": {},
   "outputs": [],
   "source": [
    "# Read in data\n",
    "df = pd.read_csv('input/Reviews.csv')\n",
    "df = df.head(2000)"
   ]
  },
  {
   "cell_type": "code",
   "execution_count": 23,
   "metadata": {},
   "outputs": [
    {
     "data": {
      "text/plain": [
       "'I have bought several of the Vitality canned dog food products and have found them all to be of good quality. The product looks more like a stew than a processed meat and it smells better. My Labrador is finicky and she appreciates this product better than  most.'"
      ]
     },
     "execution_count": 23,
     "metadata": {},
     "output_type": "execute_result"
    }
   ],
   "source": [
    "df['Text'].values[0]"
   ]
  },
  {
   "cell_type": "code",
   "execution_count": 24,
   "metadata": {},
   "outputs": [
    {
     "data": {
      "text/plain": [
       "<Axes: title={'center': 'Count of Reviews'}, xlabel='Score'>"
      ]
     },
     "execution_count": 24,
     "metadata": {},
     "output_type": "execute_result"
    },
    {
     "data": {
      "image/png": "[encoded data removed]",
      "text/plain": [
       "<Figure size 1000x500 with 1 Axes>"
      ]
     },
     "metadata": {},
     "output_type": "display_data"
    }
   ],
   "source": [
    "df['Score'].value_counts().sort_index().plot(kind='bar', title='Count of Reviews', figsize=(10,5))"
   ]
  },
  {
   "cell_type": "code",
   "execution_count": 25,
   "metadata": {},
   "outputs": [],
   "source": [
    "example = df['Text'][1045]"
   ]
  },
  {
   "cell_type": "code",
   "execution_count": 26,
   "metadata": {},
   "outputs": [],
   "source": [
    "tok = nltk.word_tokenize(example)"
   ]
  },
  {
   "cell_type": "code",
   "execution_count": 27,
   "metadata": {},
   "outputs": [],
   "source": [
    "tagged = nltk.pos_tag(tok)[:10]"
   ]
  },
  {
   "cell_type": "code",
   "execution_count": 28,
   "metadata": {},
   "outputs": [
    {
     "name": "stdout",
     "output_type": "stream",
     "text": [
      "(S\n",
      "  i/NN\n",
      "  bought/VBD\n",
      "  the/DT\n",
      "  liter/NN\n",
      "  size/NN\n",
      "  bottles/NNS\n",
      "  of/IN\n",
      "  this/DT\n",
      "  dressing/VBG\n",
      "  on/IN)\n"
     ]
    }
   ],
   "source": [
    "entity = nltk.chunk.ne_chunk(tagged)\n",
    "entity.pprint()"
   ]
  },
  {
   "cell_type": "code",
   "execution_count": 29,
   "metadata": {},
   "outputs": [],
   "source": [
    "from nltk.sentiment import SentimentIntensityAnalyzer\n",
    "from tqdm.notebook import tqdm\n",
    "\n",
    "sia = SentimentIntensityAnalyzer()"
   ]
  },
  {
   "cell_type": "code",
   "execution_count": 30,
   "metadata": {},
   "outputs": [
    {
     "data": {
      "text/plain": [
       "{'neg': 0.0, 'neu': 0.784, 'pos': 0.216, 'compound': 0.8858}"
      ]
     },
     "execution_count": 30,
     "metadata": {},
     "output_type": "execute_result"
    }
   ],
   "source": [
    "sia.polarity_scores(example)"
   ]
  },
  {
   "cell_type": "code",
   "execution_count": 31,
   "metadata": {},
   "outputs": [
    {
     "data": {
      "text/plain": [
       "3"
      ]
     },
     "execution_count": 31,
     "metadata": {},
     "output_type": "execute_result"
    }
   ],
   "source": [
    "df['Score'][1045]"
   ]
  },
  {
   "cell_type": "code",
   "execution_count": 32,
   "metadata": {},
   "outputs": [
    {
     "data": {
      "application/vnd.jupyter.widget-view+json": {
       "model_id": "0673f71398d14de097f550ca696cb39d",
       "version_major": 2,
       "version_minor": 0
      },
      "text/plain": [
       "  0%|          | 0/2000 [00:00<?, ?it/s]"
      ]
     },
     "metadata": {},
     "output_type": "display_data"
    }
   ],
   "source": [
    "# run the polarity score on entire DF\n",
    "res = {}\n",
    "for i, row in tqdm(df.iterrows(), total=len(df)):\n",
    "    text = row['Text']\n",
    "    myid = row['Id']\n",
    "    res[myid] = sia.polarity_scores(text)\n"
   ]
  },
  {
   "cell_type": "code",
   "execution_count": 35,
   "metadata": {},
   "outputs": [],
   "source": [
    "vaders = pd.DataFrame(res).T\n",
    "vaders = vaders.reset_index().rename(columns={'index': 'Id'})"
   ]
  },
  {
   "cell_type": "code",
   "execution_count": 36,
   "metadata": {},
   "outputs": [],
   "source": [
    "final = pd.merge(df, vaders, how='left')"
   ]
  },
  {
   "cell_type": "code",
   "execution_count": 37,
   "metadata": {},
   "outputs": [
    {
     "data": {
      "text/html": [
       "<div>\n",
       "<style scoped>\n",
       "    .dataframe tbody tr th:only-of-type {\n",
       "        vertical-align: middle;\n",
       "    }\n",
       "\n",
       "    .dataframe tbody tr th {\n",
       "        vertical-align: top;\n",
       "    }\n",
       "\n",
       "    .dataframe thead th {\n",
       "        text-align: right;\n",
       "    }\n",
       "</style>\n",
       "<table border=\"1\" class=\"dataframe\">\n",
       "  <thead>\n",
       "    <tr style=\"text-align: right;\">\n",
       "      <th></th>\n",
       "      <th>Id</th>\n",
       "      <th>ProductId</th>\n",
       "      <th>UserId</th>\n",
       "      <th>ProfileName</th>\n",
       "      <th>HelpfulnessNumerator</th>\n",
       "      <th>HelpfulnessDenominator</th>\n",
       "      <th>Score</th>\n",
       "      <th>Time</th>\n",
       "      <th>Summary</th>\n",
       "      <th>Text</th>\n",
       "      <th>neg</th>\n",
       "      <th>neu</th>\n",
       "      <th>pos</th>\n",
       "      <th>compound</th>\n",
       "    </tr>\n",
       "  </thead>\n",
       "  <tbody>\n",
       "    <tr>\n",
       "      <th>0</th>\n",
       "      <td>1</td>\n",
       "      <td>B001E4KFG0</td>\n",
       "      <td>A3SGXH7AUHU8GW</td>\n",
       "      <td>delmartian</td>\n",
       "      <td>1</td>\n",
       "      <td>1</td>\n",
       "      <td>5</td>\n",
       "      <td>1303862400</td>\n",
       "      <td>Good Quality Dog Food</td>\n",
       "      <td>I have bought several of the Vitality canned d...</td>\n",
       "      <td>0.000</td>\n",
       "      <td>0.695</td>\n",
       "      <td>0.305</td>\n",
       "      <td>0.9441</td>\n",
       "    </tr>\n",
       "    <tr>\n",
       "      <th>1</th>\n",
       "      <td>2</td>\n",
       "      <td>B00813GRG4</td>\n",
       "      <td>A1D87F6ZCVE5NK</td>\n",
       "      <td>dll pa</td>\n",
       "      <td>0</td>\n",
       "      <td>0</td>\n",
       "      <td>1</td>\n",
       "      <td>1346976000</td>\n",
       "      <td>Not as Advertised</td>\n",
       "      <td>Product arrived labeled as Jumbo Salted Peanut...</td>\n",
       "      <td>0.138</td>\n",
       "      <td>0.862</td>\n",
       "      <td>0.000</td>\n",
       "      <td>-0.5664</td>\n",
       "    </tr>\n",
       "    <tr>\n",
       "      <th>2</th>\n",
       "      <td>3</td>\n",
       "      <td>B000LQOCH0</td>\n",
       "      <td>ABXLMWJIXXAIN</td>\n",
       "      <td>Natalia Corres \"Natalia Corres\"</td>\n",
       "      <td>1</td>\n",
       "      <td>1</td>\n",
       "      <td>4</td>\n",
       "      <td>1219017600</td>\n",
       "      <td>\"Delight\" says it all</td>\n",
       "      <td>This is a confection that has been around a fe...</td>\n",
       "      <td>0.091</td>\n",
       "      <td>0.754</td>\n",
       "      <td>0.155</td>\n",
       "      <td>0.8265</td>\n",
       "    </tr>\n",
       "    <tr>\n",
       "      <th>3</th>\n",
       "      <td>4</td>\n",
       "      <td>B000UA0QIQ</td>\n",
       "      <td>A395BORC6FGVXV</td>\n",
       "      <td>Karl</td>\n",
       "      <td>3</td>\n",
       "      <td>3</td>\n",
       "      <td>2</td>\n",
       "      <td>1307923200</td>\n",
       "      <td>Cough Medicine</td>\n",
       "      <td>If you are looking for the secret ingredient i...</td>\n",
       "      <td>0.000</td>\n",
       "      <td>1.000</td>\n",
       "      <td>0.000</td>\n",
       "      <td>0.0000</td>\n",
       "    </tr>\n",
       "    <tr>\n",
       "      <th>4</th>\n",
       "      <td>5</td>\n",
       "      <td>B006K2ZZ7K</td>\n",
       "      <td>A1UQRSCLF8GW1T</td>\n",
       "      <td>Michael D. Bigham \"M. Wassir\"</td>\n",
       "      <td>0</td>\n",
       "      <td>0</td>\n",
       "      <td>5</td>\n",
       "      <td>1350777600</td>\n",
       "      <td>Great taffy</td>\n",
       "      <td>Great taffy at a great price.  There was a wid...</td>\n",
       "      <td>0.000</td>\n",
       "      <td>0.552</td>\n",
       "      <td>0.448</td>\n",
       "      <td>0.9468</td>\n",
       "    </tr>\n",
       "    <tr>\n",
       "      <th>...</th>\n",
       "      <td>...</td>\n",
       "      <td>...</td>\n",
       "      <td>...</td>\n",
       "      <td>...</td>\n",
       "      <td>...</td>\n",
       "      <td>...</td>\n",
       "      <td>...</td>\n",
       "      <td>...</td>\n",
       "      <td>...</td>\n",
       "      <td>...</td>\n",
       "      <td>...</td>\n",
       "      <td>...</td>\n",
       "      <td>...</td>\n",
       "      <td>...</td>\n",
       "    </tr>\n",
       "    <tr>\n",
       "      <th>1995</th>\n",
       "      <td>1996</td>\n",
       "      <td>B001E5E29A</td>\n",
       "      <td>A3IJNH61DY5N9K</td>\n",
       "      <td>Sharon Allan</td>\n",
       "      <td>10</td>\n",
       "      <td>11</td>\n",
       "      <td>5</td>\n",
       "      <td>1265846400</td>\n",
       "      <td>Great Waffles for us non-cooks</td>\n",
       "      <td>I have to laugh at the reviews that said it wa...</td>\n",
       "      <td>0.000</td>\n",
       "      <td>0.754</td>\n",
       "      <td>0.246</td>\n",
       "      <td>0.9744</td>\n",
       "    </tr>\n",
       "    <tr>\n",
       "      <th>1996</th>\n",
       "      <td>1997</td>\n",
       "      <td>B001E5E29A</td>\n",
       "      <td>A35W3JQYP0M655</td>\n",
       "      <td>Ambergris \"John Thomas\"</td>\n",
       "      <td>7</td>\n",
       "      <td>7</td>\n",
       "      <td>5</td>\n",
       "      <td>1279929600</td>\n",
       "      <td>Excellent Fluffy Pancakes.....</td>\n",
       "      <td>I had read some favorable reviews of this panc...</td>\n",
       "      <td>0.025</td>\n",
       "      <td>0.744</td>\n",
       "      <td>0.231</td>\n",
       "      <td>0.9978</td>\n",
       "    </tr>\n",
       "    <tr>\n",
       "      <th>1997</th>\n",
       "      <td>1998</td>\n",
       "      <td>B001E5E29A</td>\n",
       "      <td>A3CLWZGMC7M9Z1</td>\n",
       "      <td>Hippie2MARS \"Hippie2MARS\"</td>\n",
       "      <td>6</td>\n",
       "      <td>6</td>\n",
       "      <td>4</td>\n",
       "      <td>1250640000</td>\n",
       "      <td>Good Basic Mix</td>\n",
       "      <td>I was expecting great things based on the revi...</td>\n",
       "      <td>0.000</td>\n",
       "      <td>0.719</td>\n",
       "      <td>0.281</td>\n",
       "      <td>0.9501</td>\n",
       "    </tr>\n",
       "    <tr>\n",
       "      <th>1998</th>\n",
       "      <td>1999</td>\n",
       "      <td>B001E5E29A</td>\n",
       "      <td>A2V6P1FKRHCVQQ</td>\n",
       "      <td>S. Jackson</td>\n",
       "      <td>8</td>\n",
       "      <td>9</td>\n",
       "      <td>4</td>\n",
       "      <td>1265760000</td>\n",
       "      <td>Good pancakes, lots of work</td>\n",
       "      <td>I love this pancake mix.  I bought my first ca...</td>\n",
       "      <td>0.053</td>\n",
       "      <td>0.839</td>\n",
       "      <td>0.108</td>\n",
       "      <td>0.7003</td>\n",
       "    </tr>\n",
       "    <tr>\n",
       "      <th>1999</th>\n",
       "      <td>2000</td>\n",
       "      <td>B001E5E29A</td>\n",
       "      <td>AZ9N3928BGQ0E</td>\n",
       "      <td>J. Nachison \"long-time SF and history lover\"</td>\n",
       "      <td>7</td>\n",
       "      <td>8</td>\n",
       "      <td>5</td>\n",
       "      <td>1206835200</td>\n",
       "      <td>waffles, schmaffles !!</td>\n",
       "      <td>What can i say??  They are wonderful, and the ...</td>\n",
       "      <td>0.000</td>\n",
       "      <td>0.643</td>\n",
       "      <td>0.357</td>\n",
       "      <td>0.8892</td>\n",
       "    </tr>\n",
       "  </tbody>\n",
       "</table>\n",
       "<p>2000 rows × 14 columns</p>\n",
       "</div>"
      ],
      "text/plain": [
       "        Id   ProductId          UserId  \\\n",
       "0        1  B001E4KFG0  A3SGXH7AUHU8GW   \n",
       "1        2  B00813GRG4  A1D87F6ZCVE5NK   \n",
       "2        3  B000LQOCH0   ABXLMWJIXXAIN   \n",
       "3        4  B000UA0QIQ  A395BORC6FGVXV   \n",
       "4        5  B006K2ZZ7K  A1UQRSCLF8GW1T   \n",
       "...    ...         ...             ...   \n",
       "1995  1996  B001E5E29A  A3IJNH61DY5N9K   \n",
       "1996  1997  B001E5E29A  A35W3JQYP0M655   \n",
       "1997  1998  B001E5E29A  A3CLWZGMC7M9Z1   \n",
       "1998  1999  B001E5E29A  A2V6P1FKRHCVQQ   \n",
       "1999  2000  B001E5E29A   AZ9N3928BGQ0E   \n",
       "\n",
       "                                       ProfileName  HelpfulnessNumerator  \\\n",
       "0                                       delmartian                     1   \n",
       "1                                           dll pa                     0   \n",
       "2                  Natalia Corres \"Natalia Corres\"                     1   \n",
       "3                                             Karl                     3   \n",
       "4                    Michael D. Bigham \"M. Wassir\"                     0   \n",
       "...                                            ...                   ...   \n",
       "1995                                  Sharon Allan                    10   \n",
       "1996                       Ambergris \"John Thomas\"                     7   \n",
       "1997                     Hippie2MARS \"Hippie2MARS\"                     6   \n",
       "1998                                    S. Jackson                     8   \n",
       "1999  J. Nachison \"long-time SF and history lover\"                     7   \n",
       "\n",
       "      HelpfulnessDenominator  Score        Time  \\\n",
       "0                          1      5  1303862400   \n",
       "1                          0      1  1346976000   \n",
       "2                          1      4  1219017600   \n",
       "3                          3      2  1307923200   \n",
       "4                          0      5  1350777600   \n",
       "...                      ...    ...         ...   \n",
       "1995                      11      5  1265846400   \n",
       "1996                       7      5  1279929600   \n",
       "1997                       6      4  1250640000   \n",
       "1998                       9      4  1265760000   \n",
       "1999                       8      5  1206835200   \n",
       "\n",
       "                             Summary  \\\n",
       "0              Good Quality Dog Food   \n",
       "1                  Not as Advertised   \n",
       "2              \"Delight\" says it all   \n",
       "3                     Cough Medicine   \n",
       "4                        Great taffy   \n",
       "...                              ...   \n",
       "1995  Great Waffles for us non-cooks   \n",
       "1996  Excellent Fluffy Pancakes.....   \n",
       "1997                  Good Basic Mix   \n",
       "1998     Good pancakes, lots of work   \n",
       "1999          waffles, schmaffles !!   \n",
       "\n",
       "                                                   Text    neg    neu    pos  \\\n",
       "0     I have bought several of the Vitality canned d...  0.000  0.695  0.305   \n",
       "1     Product arrived labeled as Jumbo Salted Peanut...  0.138  0.862  0.000   \n",
       "2     This is a confection that has been around a fe...  0.091  0.754  0.155   \n",
       "3     If you are looking for the secret ingredient i...  0.000  1.000  0.000   \n",
       "4     Great taffy at a great price.  There was a wid...  0.000  0.552  0.448   \n",
       "...                                                 ...    ...    ...    ...   \n",
       "1995  I have to laugh at the reviews that said it wa...  0.000  0.754  0.246   \n",
       "1996  I had read some favorable reviews of this panc...  0.025  0.744  0.231   \n",
       "1997  I was expecting great things based on the revi...  0.000  0.719  0.281   \n",
       "1998  I love this pancake mix.  I bought my first ca...  0.053  0.839  0.108   \n",
       "1999  What can i say??  They are wonderful, and the ...  0.000  0.643  0.357   \n",
       "\n",
       "      compound  \n",
       "0       0.9441  \n",
       "1      -0.5664  \n",
       "2       0.8265  \n",
       "3       0.0000  \n",
       "4       0.9468  \n",
       "...        ...  \n",
       "1995    0.9744  \n",
       "1996    0.9978  \n",
       "1997    0.9501  \n",
       "1998    0.7003  \n",
       "1999    0.8892  \n",
       "\n",
       "[2000 rows x 14 columns]"
      ]
     },
     "execution_count": 37,
     "metadata": {},
     "output_type": "execute_result"
    }
   ],
   "source": [
    "final"
   ]
  },
  {
   "cell_type": "code",
   "execution_count": 43,
   "metadata": {},
   "outputs": [
    {
     "data": {
      "text/plain": [
       "[<matplotlib.lines.Line2D at 0x24020cbdb50>]"
      ]
     },
     "execution_count": 43,
     "metadata": {},
     "output_type": "execute_result"
    },
    {
     "data": {
      "image/png": "[encoded data removed]",
      "text/plain": [
       "<Figure size 640x480 with 1 Axes>"
      ]
     },
     "metadata": {},
     "output_type": "display_data"
    }
   ],
   "source": [
    "f = final.head(100)\n",
    "\n",
    "plt.plot(f['Id'], f['Score'])\n",
    "plt.plot(f['Id'], f['compound'])\n"
   ]
  },
  {
   "cell_type": "code",
   "execution_count": 46,
   "metadata": {},
   "outputs": [
    {
     "data": {
      "image/png": "[encoded data removed]",
      "text/plain": [
       "<Figure size 1200x300 with 3 Axes>"
      ]
     },
     "metadata": {},
     "output_type": "display_data"
    }
   ],
   "source": [
    "fig, axs = plt.subplots(1, 3, figsize=(12, 3))\n",
    "sns.barplot(data=final, x='Score', y='pos', ax=axs[0])\n",
    "sns.barplot(data=final, x='Score', y='neu', ax=axs[1])\n",
    "sns.barplot(data=final, x='Score', y='neg', ax=axs[2])\n",
    "axs[0].set_title('Positive')\n",
    "axs[1].set_title('Neutral')\n",
    "axs[2].set_title('Negative')\n",
    "plt.tight_layout()\n",
    "plt.show()"
   ]
  },
  {
   "cell_type": "code",
   "execution_count": null,
   "metadata": {},
   "outputs": [],
   "source": []
  }
 ],
 "metadata": {
  "kernelspec": {
   "display_name": "Python 3",
   "language": "python",
   "name": "python3"
  },
  "language_info": {
   "codemirror_mode": {
    "name": "ipython",
    "version": 3
   },
   "file_extension": ".py",
   "mimetype": "text/x-python",
   "name": "python",
   "nbconvert_exporter": "python",
   "pygments_lexer": "ipython3",
   "version": "3.12.3"
  }
 },
 "nbformat": 4,
 "nbformat_minor": 2
}
